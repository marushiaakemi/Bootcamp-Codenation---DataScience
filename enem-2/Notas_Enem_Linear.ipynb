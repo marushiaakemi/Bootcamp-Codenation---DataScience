{
 "cells": [
  {
   "cell_type": "code",
   "execution_count": 304,
   "metadata": {},
   "outputs": [],
   "source": [
    "import pandas as pd\n",
    "\n",
    "from sklearn import preprocessing\n",
    "from sklearn import linear_model\n",
    "from sklearn import ensemble\n",
    "from sklearn import tree"
   ]
  },
  {
   "cell_type": "code",
   "execution_count": 305,
   "metadata": {},
   "outputs": [],
   "source": [
    "train = pd.read_csv('train.csv')"
   ]
  },
  {
   "cell_type": "code",
   "execution_count": 306,
   "metadata": {},
   "outputs": [],
   "source": [
    "features = ['SG_UF_RESIDENCIA',\n",
    "           'NU_IDADE',\n",
    "           'TP_SEXO',\n",
    "           'TP_COR_RACA',\n",
    "           'TP_NACIONALIDADE',\n",
    "           'TP_ST_CONCLUSAO',\n",
    "           'TP_ANO_CONCLUIU',\n",
    "           'TP_ESCOLA',\n",
    "           'TP_ENSINO',\n",
    "           'IN_TREINEIRO',\n",
    "           'TP_DEPENDENCIA_ADM_ESC',\n",
    "           'IN_BAIXA_VISAO',\n",
    "           'IN_CEGUEIRA',\n",
    "           'IN_SURDEZ',\n",
    "           'IN_DISLEXIA',\n",
    "           'IN_DISCALCULIA',\n",
    "           'IN_SABATISTA',\n",
    "           'IN_GESTANTE',\n",
    "           'IN_IDOSO',\n",
    "           'TP_PRESENCA_CN',\n",
    "           'TP_PRESENCA_CH',\n",
    "           'TP_PRESENCA_LC',\n",
    "           'CO_PROVA_CN', \n",
    "           'CO_PROVA_CH',\n",
    "           'CO_PROVA_LC',\n",
    "           'CO_PROVA_MT',\n",
    "           'NU_NOTA_CN', \n",
    "            'NU_NOTA_CH', \n",
    "            'NU_NOTA_LC', \n",
    "            'TP_LINGUA',\n",
    "           'TP_STATUS_REDACAO',\n",
    "            'NU_NOTA_COMP1', \n",
    "            'NU_NOTA_COMP2', \n",
    "            'NU_NOTA_COMP3',\n",
    "           'NU_NOTA_COMP4', \n",
    "            'NU_NOTA_COMP5', \n",
    "            'NU_NOTA_REDACAO']\n",
    "\n",
    "target = 'NU_NOTA_MT'\n",
    "\n",
    "cd_cat = ['TP', 'CO', 'SG']\n",
    "cat_features = [i for i in features if i[:2] in cd_cat] #Variáveis Categóricas\n",
    "num_features = list( set(features) - set(cat_features)) #Variáveis Numéricas\n"
   ]
  },
  {
   "cell_type": "code",
   "execution_count": 307,
   "metadata": {},
   "outputs": [],
   "source": [
    "train = train.dropna(how = 'all', subset=[target])\n",
    "\n",
    "train[cat_features] = train[cat_features].fillna(-1).astype(str)\n",
    "train[num_features] = train[num_features].fillna(-1)\n",
    "\n",
    "train = train.reset_index(drop=True)"
   ]
  },
  {
   "cell_type": "code",
   "execution_count": 308,
   "metadata": {},
   "outputs": [
    {
     "data": {
      "text/plain": [
       "OneHotEncoder(categories='auto', drop=None, dtype=<class 'numpy.float64'>,\n",
       "              handle_unknown='ignore', sparse=False)"
      ]
     },
     "execution_count": 308,
     "metadata": {},
     "output_type": "execute_result"
    }
   ],
   "source": [
    "onehot = preprocessing.OneHotEncoder(sparse=False, handle_unknown='ignore')\n",
    "onehot.fit( train[cat_features])"
   ]
  },
  {
   "cell_type": "code",
   "execution_count": 309,
   "metadata": {},
   "outputs": [],
   "source": [
    "train_onehot = pd.DataFrame(onehot.transform( train[cat_features]), columns = onehot.get_feature_names(cat_features))"
   ]
  },
  {
   "cell_type": "code",
   "execution_count": 310,
   "metadata": {},
   "outputs": [
    {
     "data": {
      "text/plain": [
       "(10133, 141)"
      ]
     },
     "execution_count": 310,
     "metadata": {},
     "output_type": "execute_result"
    }
   ],
   "source": [
    "df_train = pd.concat([train[num_features], train_onehot], axis=1, ignore_index=True)\n",
    "df_train.shape"
   ]
  },
  {
   "cell_type": "code",
   "execution_count": 311,
   "metadata": {},
   "outputs": [
    {
     "data": {
      "text/plain": [
       "LinearRegression(copy_X=True, fit_intercept=True, n_jobs=None, normalize=False)"
      ]
     },
     "execution_count": 311,
     "metadata": {},
     "output_type": "execute_result"
    }
   ],
   "source": [
    "#reg = tree.DecisionTreeRegressor(max_depth = 12, min_samples_leaf=5)\n",
    "reg = linear_model.LinearRegression()\n",
    "reg.fit(df_train, train[target])"
   ]
  },
  {
   "cell_type": "code",
   "execution_count": 312,
   "metadata": {},
   "outputs": [
    {
     "data": {
      "text/plain": [
       "0.43962435380137926"
      ]
     },
     "execution_count": 312,
     "metadata": {},
     "output_type": "execute_result"
    }
   ],
   "source": [
    "reg.score(df_train, train[target])"
   ]
  },
  {
   "cell_type": "code",
   "execution_count": 313,
   "metadata": {},
   "outputs": [],
   "source": [
    "features = df_train.columns.tolist()\n",
    "model = pd.Series([num_features, cat_features, features, reg, onehot], \n",
    "                  index = ['num_features', 'cat_features','features', 'reg', 'onehot'])"
   ]
  },
  {
   "cell_type": "code",
   "execution_count": 314,
   "metadata": {},
   "outputs": [],
   "source": [
    "model.to_pickle('model.pkl')"
   ]
  },
  {
   "cell_type": "code",
   "execution_count": 315,
   "metadata": {},
   "outputs": [],
   "source": [
    "test = pd.read_csv('test.csv')"
   ]
  },
  {
   "cell_type": "code",
   "execution_count": 316,
   "metadata": {},
   "outputs": [],
   "source": [
    "modelo = pd.read_pickle('model.pkl')"
   ]
  },
  {
   "cell_type": "code",
   "execution_count": 317,
   "metadata": {},
   "outputs": [],
   "source": [
    "test[modelo['cat_features']] = test[modelo['cat_features']].fillna(-1).astype(str)\n",
    "test[modelo['num_features']] = test[modelo['num_features']].fillna(-1)"
   ]
  },
  {
   "cell_type": "code",
   "execution_count": 318,
   "metadata": {},
   "outputs": [],
   "source": [
    "df_onehot = pd.DataFrame(modelo['onehot'].transform(test[modelo['cat_features']]), \n",
    "                        columns = modelo['onehot'].get_feature_names(modelo['cat_features']))"
   ]
  },
  {
   "cell_type": "code",
   "execution_count": 319,
   "metadata": {},
   "outputs": [],
   "source": [
    "df_full = pd.concat([test[modelo['num_features']], df_onehot],axis=1 ,ignore_index=True)"
   ]
  },
  {
   "cell_type": "code",
   "execution_count": 320,
   "metadata": {},
   "outputs": [
    {
     "data": {
      "text/plain": [
       "0"
      ]
     },
     "execution_count": 320,
     "metadata": {},
     "output_type": "execute_result"
    }
   ],
   "source": [
    "df_full.isna().sum().sum()"
   ]
  },
  {
   "cell_type": "code",
   "execution_count": 321,
   "metadata": {},
   "outputs": [],
   "source": [
    "predict = modelo['reg'].predict(df_full[model['features']])"
   ]
  },
  {
   "cell_type": "code",
   "execution_count": 322,
   "metadata": {},
   "outputs": [
    {
     "name": "stderr",
     "output_type": "stream",
     "text": [
      "c:\\users\\miyaz\\appdata\\local\\programs\\python\\python37-32\\lib\\site-packages\\ipykernel_launcher.py:2: SettingWithCopyWarning: \n",
      "A value is trying to be set on a copy of a slice from a DataFrame.\n",
      "Try using .loc[row_indexer,col_indexer] = value instead\n",
      "\n",
      "See the caveats in the documentation: https://pandas.pydata.org/pandas-docs/stable/user_guide/indexing.html#returning-a-view-versus-a-copy\n",
      "  \n"
     ]
    }
   ],
   "source": [
    "df_new = test[['NU_INSCRICAO']]\n",
    "df_new['NU_NOTA_MT'] = predict"
   ]
  },
  {
   "cell_type": "code",
   "execution_count": 323,
   "metadata": {},
   "outputs": [],
   "source": [
    "df_new.to_csv('answer.csv', index = False)"
   ]
  }
 ],
 "metadata": {
  "kernelspec": {
   "display_name": "Python 3",
   "language": "python",
   "name": "python3"
  },
  "language_info": {
   "codemirror_mode": {
    "name": "ipython",
    "version": 3
   },
   "file_extension": ".py",
   "mimetype": "text/x-python",
   "name": "python",
   "nbconvert_exporter": "python",
   "pygments_lexer": "ipython3",
   "version": "3.7.4"
  }
 },
 "nbformat": 4,
 "nbformat_minor": 4
}
